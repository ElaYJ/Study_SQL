{
 "cells": [
  {
   "cell_type": "code",
   "execution_count": 1,
   "metadata": {},
   "outputs": [],
   "source": [
    "import mysql.connector"
   ]
  },
  {
   "cell_type": "markdown",
   "metadata": {},
   "source": [
    "# 1. Create Connection"
   ]
  },
  {
   "cell_type": "markdown",
   "metadata": {},
   "source": [
    "### 예제1. Local DB 연결"
   ]
  },
  {
   "cell_type": "code",
   "execution_count": 2,
   "metadata": {},
   "outputs": [],
   "source": [
    "local = mysql.connector.connect(\n",
    "\thost = \"localhost\",\n",
    "\tuser = \"root\",\n",
    "\tpassword = \"MSQanfqud42!\"\n",
    ")"
   ]
  },
  {
   "cell_type": "markdown",
   "metadata": {},
   "source": [
    "### 예제2. AWS RDS(database-1) 연결"
   ]
  },
  {
   "cell_type": "code",
   "execution_count": 9,
   "metadata": {},
   "outputs": [],
   "source": [
    "remote = mysql.connector.connect(\n",
    "\thost = \"database-1.cjyesy60ukq4.us-east-2.rds.amazonaws.com\",\n",
    "\tport = 3306,\n",
    "\tuser = \"admin\",\n",
    "\tpassword = \"awsrds_mysql21!\"\n",
    ")"
   ]
  },
  {
   "cell_type": "markdown",
   "metadata": {},
   "source": [
    "### Close Database"
   ]
  },
  {
   "cell_type": "code",
   "execution_count": 3,
   "metadata": {},
   "outputs": [],
   "source": [
    "local.close()"
   ]
  },
  {
   "cell_type": "code",
   "execution_count": 10,
   "metadata": {},
   "outputs": [],
   "source": [
    "remote.close()"
   ]
  },
  {
   "cell_type": "markdown",
   "metadata": {},
   "source": [
    "### 예제3. Local zerobase DB 연결"
   ]
  },
  {
   "cell_type": "code",
   "execution_count": 7,
   "metadata": {},
   "outputs": [],
   "source": [
    "local = mysql.connector.connect(\n",
    "\thost = \"localhost\",\n",
    "\tuser = \"root\",\n",
    "\tpassword = \"MSQanfqud42!\",\n",
    "\tdatabase = \"zerobase\"\n",
    ")"
   ]
  },
  {
   "cell_type": "code",
   "execution_count": 8,
   "metadata": {},
   "outputs": [],
   "source": [
    "local.close()"
   ]
  },
  {
   "cell_type": "markdown",
   "metadata": {},
   "source": [
    "### 예제4. AWS RDS(database-1)의 zerobase 연결"
   ]
  },
  {
   "cell_type": "code",
   "execution_count": 11,
   "metadata": {},
   "outputs": [],
   "source": [
    "remote = mysql.connector.connect(\n",
    "\thost = \"database-1.cjyesy60ukq4.us-east-2.rds.amazonaws.com\",\n",
    "\tport = 3306,\n",
    "\tuser = \"admin\",\n",
    "\tpassword = \"awsrds_mysql21!\",\n",
    "\tdatabase = \"zerobase\"\n",
    ")"
   ]
  },
  {
   "cell_type": "code",
   "execution_count": null,
   "metadata": {},
   "outputs": [],
   "source": [
    "remote.close()"
   ]
  },
  {
   "cell_type": "markdown",
   "metadata": {},
   "source": [
    "</br>\n",
    "\n",
    "-----\n",
    "\n",
    "</br>\n",
    "\n",
    "# Python에서 SQL 실행"
   ]
  },
  {
   "cell_type": "markdown",
   "metadata": {},
   "source": [
    "## 🔰 Execute SQL"
   ]
  },
  {
   "cell_type": "markdown",
   "metadata": {},
   "source": [
    "### 예제1. Table 생성"
   ]
  },
  {
   "cell_type": "code",
   "execution_count": 12,
   "metadata": {},
   "outputs": [],
   "source": [
    "remote = mysql.connector.connect(\n",
    "\thost = \"database-1.cjyesy60ukq4.us-east-2.rds.amazonaws.com\",\n",
    "\tport = 3306,\n",
    "\tuser = \"admin\",\n",
    "\tpassword = \"awsrds_mysql21!\",\n",
    "\tdatabase = \"zerobase\"\n",
    ")\n",
    "\n",
    "cur = remote.cursor()\n",
    "cur.execute(\"CREATE TABLE sql_file (id int, filename varchar(16))\")\n",
    "\n",
    "remote.close()"
   ]
  },
  {
   "cell_type": "markdown",
   "metadata": {},
   "source": [
    "### 예제2. Table 삭제"
   ]
  },
  {
   "cell_type": "code",
   "execution_count": 13,
   "metadata": {},
   "outputs": [],
   "source": [
    "remote = mysql.connector.connect(\n",
    "\thost = \"database-1.cjyesy60ukq4.us-east-2.rds.amazonaws.com\",\n",
    "\tport = 3306,\n",
    "\tuser = \"admin\",\n",
    "\tpassword = \"awsrds_mysql21!\",\n",
    "\tdatabase = \"zerobase\"\n",
    ")\n",
    "\n",
    "cur = remote.cursor()\n",
    "cur.execute(\"DROP TABLE sql_file\")\n",
    "\n",
    "remote.close()"
   ]
  },
  {
   "cell_type": "markdown",
   "metadata": {},
   "source": [
    "## 🔰 Execute SQL File"
   ]
  },
  {
   "cell_type": "markdown",
   "metadata": {},
   "source": [
    "### 예제1. test03.sql 파일 생성 후 실행"
   ]
  },
  {
   "cell_type": "code",
   "execution_count": 14,
   "metadata": {},
   "outputs": [],
   "source": [
    "remote = mysql.connector.connect(\n",
    "\thost = \"database-1.cjyesy60ukq4.us-east-2.rds.amazonaws.com\",\n",
    "\tport = 3306,\n",
    "\tuser = \"admin\",\n",
    "\tpassword = \"awsrds_mysql21!\",\n",
    "\tdatabase = \"zerobase\"\n",
    ")\n",
    "\n",
    "cur = remote.cursor()\n",
    "sql = open(\"test03.sql\").read()\n",
    "cur.execute(sql)\n",
    "\n",
    "remote.close()"
   ]
  },
  {
   "cell_type": "markdown",
   "metadata": {},
   "source": [
    "### 예제2. test04.sql 파일 생성 후 실행\n",
    "\n",
    "- SQL File 내에 Query가 여러개 존재하는 경우 실행을 위한 코드"
   ]
  },
  {
   "cell_type": "code",
   "execution_count": 20,
   "metadata": {},
   "outputs": [],
   "source": [
    "remote = mysql.connector.connect(\n",
    "\thost = \"database-1.cjyesy60ukq4.us-east-2.rds.amazonaws.com\",\n",
    "\tport = 3306,\n",
    "\tuser = \"admin\",\n",
    "\tpassword = \"awsrds_mysql21!\",\n",
    "\tdatabase = \"zerobase\"\n",
    ")\n",
    "\n",
    "cur = remote.cursor()\n",
    "sql = open(\"test04.sql\").read()\n",
    "cur.execute(sql)\n",
    "\n",
    "remote.close()\n",
    "\n",
    "#==> Query문이 여러 개여서 오류 발생"
   ]
  },
  {
   "cell_type": "code",
   "execution_count": 21,
   "metadata": {},
   "outputs": [
    {
     "name": "stdout",
     "output_type": "stream",
     "text": [
      "INSERT INTO sql_file VALUES (1, \"test01.sql\")\n",
      "INSERT INTO sql_file VALUES (2, \"test02.sql\")\n",
      "INSERT INTO sql_file VALUES (3, \"test03.sql\")\n",
      "INSERT INTO sql_file VALUES (4, \"test04.sql\")\n"
     ]
    }
   ],
   "source": [
    "remote = mysql.connector.connect(\n",
    "\thost = \"database-1.cjyesy60ukq4.us-east-2.rds.amazonaws.com\",\n",
    "\tport = 3306,\n",
    "\tuser = \"admin\",\n",
    "\tpassword = \"awsrds_mysql21!\",\n",
    "\tdatabase = \"zerobase\"\n",
    ")\n",
    "\n",
    "cur = remote.cursor()\n",
    "sql = open(\"test04.sql\").read()\n",
    "for result_iterator in cur.execute(sql, multi=True):\n",
    "    if result_iterator.with_rows:\n",
    "        print(result_iterator.fetchall())\n",
    "    else:\n",
    "        print(result_iterator.statement)\n",
    "        \n",
    "remote.commit() #==> commit()하는 순간 DB에 반영이 된다. 데이터가 DB에 저장됨.\n",
    "remote.close()"
   ]
  },
  {
   "cell_type": "markdown",
   "metadata": {},
   "source": [
    "### Fatch All 예제\n",
    "\n",
    "> sql_file Table 조회"
   ]
  },
  {
   "cell_type": "markdown",
   "metadata": {},
   "source": [
    "\n",
    "- `cursor.fetchall()`\n",
    "\t- SELECT문으로 데이터를 가져올 때 사용하는 함수\n",
    "\t- 데이터가 리스트 형태로 반환된다.\n",
    "\n",
    "- 읽어올 데이터 양이 많은 경우 `buffered=True` 옵션을 사용한다."
   ]
  },
  {
   "cell_type": "code",
   "execution_count": 22,
   "metadata": {},
   "outputs": [
    {
     "name": "stdout",
     "output_type": "stream",
     "text": [
      "[(1, 'test01.sql'), (2, 'test02.sql'), (3, 'test03.sql'), (4, 'test04.sql')]\n",
      "(1, 'test01.sql')\n",
      "(2, 'test02.sql')\n",
      "(3, 'test03.sql')\n",
      "(4, 'test04.sql')\n"
     ]
    }
   ],
   "source": [
    "remote = mysql.connector.connect(\n",
    "\thost = \"database-1.cjyesy60ukq4.us-east-2.rds.amazonaws.com\",\n",
    "\tport = 3306,\n",
    "\tuser = \"admin\",\n",
    "\tpassword = \"awsrds_mysql21!\",\n",
    "\tdatabase = \"zerobase\"\n",
    ")\n",
    "\n",
    "cur = remote.cursor(buffered=True)\n",
    "cur.execute(\"SELECT * FROM sql_file\")\n",
    "\n",
    "result = cur.fetchall()\n",
    "print(result)\n",
    "\n",
    "for result_iter in result:\n",
    "    print(result_iter)\n",
    "    \n",
    "remote.close()"
   ]
  },
  {
   "cell_type": "markdown",
   "metadata": {},
   "source": [
    "- Pandas DataFrame\n",
    "\n",
    "\t- 검색 결과를 Pandas로 읽을 수 있다."
   ]
  },
  {
   "cell_type": "code",
   "execution_count": 23,
   "metadata": {},
   "outputs": [
    {
     "data": {
      "text/html": [
       "<div>\n",
       "<style scoped>\n",
       "    .dataframe tbody tr th:only-of-type {\n",
       "        vertical-align: middle;\n",
       "    }\n",
       "\n",
       "    .dataframe tbody tr th {\n",
       "        vertical-align: top;\n",
       "    }\n",
       "\n",
       "    .dataframe thead th {\n",
       "        text-align: right;\n",
       "    }\n",
       "</style>\n",
       "<table border=\"1\" class=\"dataframe\">\n",
       "  <thead>\n",
       "    <tr style=\"text-align: right;\">\n",
       "      <th></th>\n",
       "      <th>0</th>\n",
       "      <th>1</th>\n",
       "    </tr>\n",
       "  </thead>\n",
       "  <tbody>\n",
       "    <tr>\n",
       "      <th>0</th>\n",
       "      <td>1</td>\n",
       "      <td>test01.sql</td>\n",
       "    </tr>\n",
       "    <tr>\n",
       "      <th>1</th>\n",
       "      <td>2</td>\n",
       "      <td>test02.sql</td>\n",
       "    </tr>\n",
       "    <tr>\n",
       "      <th>2</th>\n",
       "      <td>3</td>\n",
       "      <td>test03.sql</td>\n",
       "    </tr>\n",
       "    <tr>\n",
       "      <th>3</th>\n",
       "      <td>4</td>\n",
       "      <td>test04.sql</td>\n",
       "    </tr>\n",
       "  </tbody>\n",
       "</table>\n",
       "</div>"
      ],
      "text/plain": [
       "   0           1\n",
       "0  1  test01.sql\n",
       "1  2  test02.sql\n",
       "2  3  test03.sql\n",
       "3  4  test04.sql"
      ]
     },
     "execution_count": 23,
     "metadata": {},
     "output_type": "execute_result"
    }
   ],
   "source": [
    "import pandas as pd\n",
    "\n",
    "df = pd.DataFrame(result)\n",
    "df"
   ]
  }
 ],
 "metadata": {
  "kernelspec": {
   "display_name": "ds_study",
   "language": "python",
   "name": "python3"
  },
  "language_info": {
   "codemirror_mode": {
    "name": "ipython",
    "version": 3
   },
   "file_extension": ".py",
   "mimetype": "text/x-python",
   "name": "python",
   "nbconvert_exporter": "python",
   "pygments_lexer": "ipython3",
   "version": "3.8.18"
  }
 },
 "nbformat": 4,
 "nbformat_minor": 2
}
